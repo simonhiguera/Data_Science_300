{
  "nbformat": 4,
  "nbformat_minor": 0,
  "metadata": {
    "colab": {
      "name": "Clase1.ipynb",
      "provenance": [],
      "authorship_tag": "ABX9TyPLWLdL/uai66wqt82TwLDo",
      "include_colab_link": true
    },
    "kernelspec": {
      "name": "python3",
      "display_name": "Python 3"
    },
    "language_info": {
      "name": "python"
    }
  },
  "cells": [
    {
      "cell_type": "markdown",
      "metadata": {
        "id": "view-in-github",
        "colab_type": "text"
      },
      "source": [
        "<a href=\"https://colab.research.google.com/github/simonhiguera/Data_Science_300/blob/main/Clase1.ipynb\" target=\"_parent\"><img src=\"https://colab.research.google.com/assets/colab-badge.svg\" alt=\"Open In Colab\"/></a>"
      ]
    },
    {
      "cell_type": "code",
      "metadata": {
        "id": "dXkQLg9GoTdJ"
      },
      "source": [
        "hhhh"
      ],
      "execution_count": null,
      "outputs": []
    },
    {
      "cell_type": "markdown",
      "metadata": {
        "id": "Uo6WStq9qUha"
      },
      "source": [
        ""
      ]
    },
    {
      "cell_type": "code",
      "metadata": {
        "colab": {
          "base_uri": "https://localhost:8080/"
        },
        "id": "tPI_n5ckB9E6",
        "outputId": "98b6052c-5257-4717-acc6-91245cafec5d"
      },
      "source": [
        "celular1 = {}\n",
        "celular1['marca'] = 'iPhone'\n",
        "celular1['generacion'] = '8 Plus'\n",
        "celular1['Color'] = 'Rojo'\n",
        "celular1['Capacidad'] = '128GB'\n",
        "celular1['Precio'] = 1200\n",
        "\n",
        "celular2 = {}\n",
        "celular2['marca'] = 'Samsung'\n",
        "celular2['generacion'] = 'Galaxy S9'\n",
        "celular2['Color'] = 'Gris'\n",
        "celular2['Capacidad'] = '36GB'\n",
        "celular2['Precio'] = 800\n",
        "\n",
        "celular3 = {}\n",
        "celular3['marca'] = 'Huawei'\n",
        "celular3['generacion'] = 'XP 10'\n",
        "celular3['Color'] = 'Azul'\n",
        "celular3['Capacidad'] = '250GB'\n",
        "celular3['Precio'] = 1600\n",
        "\n",
        "compra_total = celular1['Precio'] + celular2['Precio'] + celular3['Precio']\n",
        "\n",
        "print('La compra total es de un valor de: ', compra_total)\n",
        "\n",
        "porcentajecompra = ((celular1['Precio']+ celular2['Precio'])/compra_total) * 100\n",
        "print('el porcentaje de compra sobre el total es de: ', porcentajecompra, '%')\n"
      ],
      "execution_count": 3,
      "outputs": [
        {
          "output_type": "stream",
          "name": "stdout",
          "text": [
            "La compra total es de un valor de:  3600\n",
            "el porcentaje de compra sobre el total es de:  55.55555555555556 %\n"
          ]
        }
      ]
    }
  ]
}