{
  "nbformat": 4,
  "nbformat_minor": 0,
  "metadata": {
    "colab": {
      "name": "Ejercicios_3_sin_resolver.ipynb",
      "provenance": [],
      "collapsed_sections": [],
      "include_colab_link": true
    },
    "kernelspec": {
      "name": "python3",
      "display_name": "Python 3"
    },
    "language_info": {
      "name": "python"
    }
  },
  "cells": [
    {
      "cell_type": "markdown",
      "metadata": {
        "id": "view-in-github",
        "colab_type": "text"
      },
      "source": [
        "<a href=\"https://colab.research.google.com/github/simonhiguera/Data_Science_300/blob/main/Ejercicios_3_resueltos_Simon_Higuera.ipynb\" target=\"_parent\"><img src=\"https://colab.research.google.com/assets/colab-badge.svg\" alt=\"Open In Colab\"/></a>"
      ]
    },
    {
      "cell_type": "markdown",
      "metadata": {
        "id": "_XBLq0MTOhWu"
      },
      "source": [
        "# Ejercicio 1\n",
        "\n",
        "Escribir un programa para mostrar sólo los números de una lista (dada) que cumplan las condiciones siguientes ✈⏰♥⌛⛸🏀\n",
        "\n",
        "```lista = [14, 75, 150, 180, 145, 525, 50, 10, 56,55]```\n",
        "\n",
        "1. El número debe ser divisible por cinco 🙏\n",
        "2. Si el número es mayor que 150, sáltelo y pase al siguiente número 🫂\n",
        "3. Si el número es mayor que 500, paren el bucle 🔊"
      ]
    },
    {
      "cell_type": "code",
      "metadata": {
        "id": "KDaEy559chco",
        "colab": {
          "base_uri": "https://localhost:8080/"
        },
        "outputId": "495f0021-4edc-4fc0-8d1c-eec66716546d"
      },
      "source": [
        "lista = [14, 75, 150, 180, 145, 525, 50, 10, 56,55]\n",
        "for i in lista:\n",
        "  if i > 500:\n",
        "    break\n",
        "  elif i > 150:\n",
        "    continue\n",
        "  elif i % 5 == 0:\n",
        "    print(i)\n",
        "\n"
      ],
      "execution_count": null,
      "outputs": [
        {
          "output_type": "stream",
          "name": "stdout",
          "text": [
            "75\n",
            "150\n",
            "145\n"
          ]
        }
      ]
    },
    {
      "cell_type": "markdown",
      "metadata": {
        "id": "Vy7igOV4P05F"
      },
      "source": [
        "# Ejercicio 2\n",
        "\n",
        "Escriba un programa para contar el número **entero** total de dígitos en un número usando un bucle while. ⚪❌💯👍⚡\n",
        "\n",
        "Por ejemplo, el número es 12345, por lo que la salida debe ser 5. 📷🥿🥲😕🔮"
      ]
    },
    {
      "cell_type": "code",
      "metadata": {
        "id": "pG6qSEScciVg",
        "colab": {
          "base_uri": "https://localhost:8080/"
        },
        "outputId": "8787b372-8de4-4d0f-9c18-8c4d2f48509c"
      },
      "source": [
        "'''\n",
        "numero = int(input())\n",
        "numeroporver = str(numero)\n",
        "print(len(numeroporver))\n",
        "'''\n",
        "numero = int(input())\n",
        "numeroporver = str(numero)\n",
        "i = 0\n",
        "while i < len(numeroporver) :\n",
        "  x = i + 1\n",
        "  i += 1\n",
        "print(x)\n",
        "\n"
      ],
      "execution_count": null,
      "outputs": [
        {
          "output_type": "stream",
          "name": "stdout",
          "text": [
            "12345\n",
            "5\n"
          ]
        }
      ]
    },
    {
      "cell_type": "markdown",
      "metadata": {
        "id": "UQ1RHQk0Qam7"
      },
      "source": [
        "# Ejercicio 3\n",
        "\n",
        "Escriba un programa para usar en bucle para imprimir el siguiente patrón de números inverso. **Ayuda** *Pueden usar un loop anidado* ☣🙂🚒⛴🗃⛲\n",
        "\n",
        "```\n",
        "6 5 4 3 2 1\n",
        "5 4 3 2 1 \n",
        "4 3 2 1 \n",
        "3 2 1\n",
        "2 1 \n",
        "1\n",
        "```"
      ]
    },
    {
      "cell_type": "code",
      "metadata": {
        "colab": {
          "base_uri": "https://localhost:8080/"
        },
        "id": "Vpx2p3x4O4yj",
        "outputId": "8cbdabc0-bdc1-45bb-ccda-adeabad27373"
      },
      "source": [
        "n = [6, 5, 4, 3, 2, 1]\n",
        "for i in n:\n",
        "  print (n[(n.index(i)):])\n",
        "  "
      ],
      "execution_count": 20,
      "outputs": [
        {
          "output_type": "stream",
          "name": "stdout",
          "text": [
            "[6, 5, 4, 3, 2, 1]\n",
            "[5, 4, 3, 2, 1]\n",
            "[4, 3, 2, 1]\n",
            "[3, 2, 1]\n",
            "[2, 1]\n",
            "[1]\n"
          ]
        }
      ]
    },
    {
      "cell_type": "markdown",
      "metadata": {
        "id": "IQhoIRbzSOTv"
      },
      "source": [
        "# Ejercicio 4\n",
        "\n",
        "Escriba un programa para calcular la suma de la siguiente serie hasta el n-ésimo término. 🧉👒😵🧭🈹🥸\n",
        "\n",
        "$$3+33+333+3333+33333+.....$$\n",
        "\n",
        "Por ejemplo, si n = 5 la serie se convertirá en 3 + 33 + 333 + 3333 + 33333 = 37035 🥸💵🐬⚓♊"
      ]
    },
    {
      "cell_type": "code",
      "metadata": {
        "id": "OwEnwVzvco6N",
        "colab": {
          "base_uri": "https://localhost:8080/"
        },
        "outputId": "5714689e-3258-4921-a469-c35d80aea5e1"
      },
      "source": [
        "n = int(input('Valor de n: '))\n",
        "x = 3\n",
        "suma = 0\n",
        "for i in range(0, n):\n",
        "  if i != n-1 :\n",
        "    print(x, end= ' + ')\n",
        "    suma = suma + x \n",
        "    x = (x*10) + 3\n",
        "  else:\n",
        "     print(x, end= ' = ')\n",
        "     suma = suma + x \n",
        "     x = (x*10) + 3\n",
        "print(suma)\n",
        "  \n",
        "  \n",
        "\n",
        "  "
      ],
      "execution_count": 43,
      "outputs": [
        {
          "output_type": "stream",
          "name": "stdout",
          "text": [
            "Valor de n: 5\n",
            "3 + 33 + 333 + 3333 + 33333 = 37035\n"
          ]
        }
      ]
    },
    {
      "cell_type": "markdown",
      "metadata": {
        "id": "H1B88LgXUJqZ"
      },
      "source": [
        "# Ejercicio 5\n",
        "\n",
        "Crear una función que se llama ```funcion_xy``` que tome como argumento una lista de **numeros enteros** (dada, ver mas abajo) y adicionalmente permita la posibilidad de incorporar parametros adicionales ```*args```y ```**kargs```. \n",
        "\n",
        "```lista=[2,1,3,5,4,7,9,8,6,10]```\n",
        "\n",
        "Se requiere que la funcion tenga las siguientes caracteristicas\n",
        "\n",
        "```*args```\n",
        "\n",
        "1. Ordene la lista de menor a mayor y la devuelva como salida.\n",
        "2. Extraiga y muestre solo los numeros pares\n",
        "3. Calcular la media recortada al 10% de la lista. Para eso pueden utilizar importar la siguiente librería:     \n",
        "```from scipy import stats```\n",
        "Y utilizar la función ```stats.trim_mean(lista, 0.1, axis=0)```\n",
        "\n",
        "```**kargs```\n",
        "\n",
        "1. ```reverse == True``` => Debera invertir la lista \n",
        "2. ```odd == True``` => retorna una lista con los nombres 'pares' e 'impares' para cada posicion\n",
        "3. ```filter == True``` => extraer los valores mayores a 4 y mostrarlos\n",
        "\n",
        "\n",
        "**Nota :** En todos los casos n olviden la importancia del return y traten de aplicar todos los conceptos que hemos visto para resolver de la manera más eficiente posible."
      ]
    },
    {
      "cell_type": "code",
      "metadata": {
        "id": "vRwZTH6kcrie",
        "colab": {
          "base_uri": "https://localhost:8080/"
        },
        "outputId": "634a16b2-2b50-4e4b-83fc-4fdae97887d5"
      },
      "source": [
        "from scipy import stats\n",
        "def funcion_xy (lista, *args, **kargs):\n",
        "  if args:\n",
        "    if args[0] == 1:\n",
        "      lista.sort()\n",
        "      return lista\n",
        "    elif args[0] == 2:\n",
        "      pares = []\n",
        "      for i in lista:\n",
        "        if i % 2 == 0:\n",
        "          pares.append(i)\n",
        "          print(i)\n",
        "      return pares\n",
        "    elif args [0] == 3:\n",
        "      media_rec = stats.trim_mean(lista, 0.1, axis=0)\n",
        "      return media_rec\n",
        "  if kargs.keys():\n",
        "    if 'reverse' in kargs.keys():\n",
        "      if kargs['reverse'] == True :\n",
        "         lista.reverse()\n",
        "         return lista\n",
        "    elif 'odd' in kargs.keys():\n",
        "      if kargs['odd'] == True:\n",
        "        clasif = []\n",
        "        for i in lista:\n",
        "          if i % 2 == 0:\n",
        "            clasif.append('par')\n",
        "          else:\n",
        "            clasif.append('impar')\n",
        "        return clasif\n",
        "    elif 'filter' in kargs.keys():\n",
        "      if kargs['filter'] == True:\n",
        "        mayores = []\n",
        "        for i in lista:\n",
        "          if i > 4:\n",
        "            mayores.append(i)\n",
        "        return mayores\n",
        "l = [3, 2, 5, 4, 1, 6, 7]\n",
        "funcion_xy (l, odd = True)\n",
        "\n",
        "\n"
      ],
      "execution_count": 58,
      "outputs": [
        {
          "output_type": "execute_result",
          "data": {
            "text/plain": [
              "['impar', 'par', 'impar', 'par', 'impar', 'par', 'impar']"
            ]
          },
          "metadata": {},
          "execution_count": 58
        }
      ]
    }
  ]
}