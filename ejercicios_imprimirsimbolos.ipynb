{
  "nbformat": 4,
  "nbformat_minor": 0,
  "metadata": {
    "colab": {
      "name": "ejercicios_imprimirsimbolos.ipynb",
      "provenance": [],
      "authorship_tag": "ABX9TyMotUBOtM5422xrhn2rrdWy",
      "include_colab_link": true
    },
    "kernelspec": {
      "name": "python3",
      "display_name": "Python 3"
    },
    "language_info": {
      "name": "python"
    }
  },
  "cells": [
    {
      "cell_type": "markdown",
      "metadata": {
        "id": "view-in-github",
        "colab_type": "text"
      },
      "source": [
        "<a href=\"https://colab.research.google.com/github/simonhiguera/Data_Science_300/blob/main/ejercicios_imprimirsimbolos.ipynb\" target=\"_parent\"><img src=\"https://colab.research.google.com/assets/colab-badge.svg\" alt=\"Open In Colab\"/></a>"
      ]
    },
    {
      "cell_type": "code",
      "execution_count": null,
      "metadata": {
        "id": "rvsKs3hpDreX"
      },
      "outputs": [],
      "source": [
        "largo = int(input('Inserte cuantas filas desea: '))\n",
        "for i in range(largo):\n",
        "  cuant = largo - (i+1)\n",
        "  esp = cuant*' '\n",
        "  ast = (i+1) * '#'\n",
        "  n = esp + ast\n",
        "  print(n)\n"
      ]
    },
    {
      "cell_type": "code",
      "source": [
        "for i in range(1, 6):\n",
        "  for j in range(6-i):\n",
        "    print(' ', end='')\n",
        "  for k in range(i):\n",
        "    if i != 1:\n",
        "      for m in range(i):\n",
        "        print('#', end='')\n",
        "  \n",
        "  print()\n"
      ],
      "metadata": {
        "id": "h_mlNcbE95nq"
      },
      "execution_count": null,
      "outputs": []
    },
    {
      "cell_type": "code",
      "source": [
        "for i in range(1, 6):\n",
        "  for j in range(6-i):\n",
        "    print(' ', end='')\n",
        "  for k in range(i):\n",
        "    print('#', end='')\n",
        "  print()\n",
        "\n"
      ],
      "metadata": {
        "colab": {
          "base_uri": "https://localhost:8080/"
        },
        "id": "ecPkMMS7Odxu",
        "outputId": "e2e540f9-1af5-440b-84f9-1f39bed1e741"
      },
      "execution_count": null,
      "outputs": [
        {
          "output_type": "stream",
          "name": "stdout",
          "text": [
            "     #\n",
            "    ##\n",
            "   ###\n",
            "  ####\n",
            " #####\n"
          ]
        }
      ]
    },
    {
      "cell_type": "code",
      "source": [
        "for i in range(1, 6):\n",
        "  for j in range(6-i):\n",
        "    print(' ', end='')\n",
        "  if i == 1:\n",
        "      print('#', end='')\n",
        "  else:\n",
        "    for k in range((i + (i-1))):\n",
        "      print('#', end='')\n",
        "  print()\n",
        "  "
      ],
      "metadata": {
        "colab": {
          "base_uri": "https://localhost:8080/"
        },
        "id": "vZStvIkrWv0n",
        "outputId": "45d597be-16d6-4aea-ef65-5c2db4a7217c"
      },
      "execution_count": null,
      "outputs": [
        {
          "output_type": "stream",
          "name": "stdout",
          "text": [
            "     #\n",
            "    ###\n",
            "   #####\n",
            "  #######\n",
            " #########\n"
          ]
        }
      ]
    },
    {
      "cell_type": "code",
      "source": [
        "for i in range(1, 10):\n",
        "  for j in range(6-i):\n",
        "    print(' ', end='')\n",
        "  if i == 1:\n",
        "      print('#', end='')\n",
        "  elif i <=6 :\n",
        "    for k in range((i + (i-1))):\n",
        "      print('#', end='')\n",
        "  else:\n",
        "    for l in range(1, 3): #[1, 2, 3]\n",
        "      for n in range(3-l):\n",
        "        print(' ', end='')\n",
        "      if l == 1:\n",
        "        print('#', end='')\n",
        "      elif l <=3:\n",
        "        for m in range((l + (l-1))):\n",
        "          print('#', end='')\n",
        "  print()"
      ],
      "metadata": {
        "colab": {
          "base_uri": "https://localhost:8080/"
        },
        "id": "ep9yQglcXTQS",
        "outputId": "1d245c5a-0226-432e-90b4-a3ac0e19e2a3"
      },
      "execution_count": null,
      "outputs": [
        {
          "output_type": "stream",
          "name": "stdout",
          "text": [
            "     #\n",
            "    ###\n",
            "   #####\n",
            "  #######\n",
            " #########\n",
            "###########\n",
            "  # ###\n",
            "  # ###\n",
            "  # ###\n"
          ]
        }
      ]
    }
  ]
}