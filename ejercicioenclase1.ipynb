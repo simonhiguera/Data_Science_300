{
  "nbformat": 4,
  "nbformat_minor": 0,
  "metadata": {
    "colab": {
      "name": "ejercicioenclase1.ipynb",
      "provenance": [],
      "authorship_tag": "ABX9TyOkoKU+vrk3IfrAyr+chBoY",
      "include_colab_link": true
    },
    "kernelspec": {
      "name": "python3",
      "display_name": "Python 3"
    },
    "language_info": {
      "name": "python"
    }
  },
  "cells": [
    {
      "cell_type": "markdown",
      "metadata": {
        "id": "view-in-github",
        "colab_type": "text"
      },
      "source": [
        "<a href=\"https://colab.research.google.com/github/simonhiguera/Data_Science_300/blob/main/ejercicioenclase1.ipynb\" target=\"_parent\"><img src=\"https://colab.research.google.com/assets/colab-badge.svg\" alt=\"Open In Colab\"/></a>"
      ]
    },
    {
      "cell_type": "code",
      "execution_count": 33,
      "metadata": {
        "id": "XUJEhCTJ45H0"
      },
      "outputs": [],
      "source": [
        "import numpy as np\n",
        "m0 = [[1, 2, 5, 7],\n",
        "     [ 8, 3, 4,11],\n",
        "     [14, 6,10,12],\n",
        "     [ 9,13,15,None]]\n",
        "\n",
        "def buscar (m, num):\n",
        "  for i in range(len(m)) :\n",
        "    for j in range(len(m[i])):\n",
        "      if m[i][j]==num:\n",
        "        return(i,j)\n"
      ]
    },
    {
      "cell_type": "code",
      "source": [
        ""
      ],
      "metadata": {
        "id": "inXIZqG4BgAj"
      },
      "execution_count": null,
      "outputs": []
    },
    {
      "cell_type": "code",
      "source": [
        "def filacorrecta (m, num):\n",
        "  i, j = buscar(m, num)\n",
        "  #print(i)\n",
        "  x = (num / len(m))-1\n",
        "  #print(x)\n",
        "  if int(x) == x :\n",
        "     xv = x\n",
        "  else:\n",
        "   xv = int(x+1)\n",
        "  #print(xv)\n",
        "  if i == xv:\n",
        "    filacomprobada = True\n",
        "  else:\n",
        "    filacomprobada = False\n",
        "  return(filacomprobada)"
      ],
      "metadata": {
        "id": "PX5F_qCl50BC"
      },
      "execution_count": 34,
      "outputs": []
    },
    {
      "cell_type": "code",
      "source": [
        "filacorrecta(m0, 8)"
      ],
      "metadata": {
        "colab": {
          "base_uri": "https://localhost:8080/"
        },
        "id": "yoyghgF0Km-N",
        "outputId": "1e4b1a6c-3322-4264-ebc6-70e6d35f1898"
      },
      "execution_count": 53,
      "outputs": [
        {
          "output_type": "execute_result",
          "data": {
            "text/plain": [
              "True"
            ]
          },
          "metadata": {},
          "execution_count": 53
        }
      ]
    },
    {
      "cell_type": "code",
      "source": [
        "def indicecorrecto(m, num):\n",
        "  i, j = buscar(m, num)\n",
        "  comprobar = filacorrecta(m, num)\n",
        "  if comprobar == True:\n",
        "    z = i*len(m[i])\n",
        "    y = num - z -1\n",
        "    print(y)\n",
        "    if j == y:\n",
        "      indicecomprobado = True\n",
        "    else:\n",
        "      indicecomprobado = False\n",
        "  else:\n",
        "    indicecomprobado = False\n",
        "  return(indicecomprobado)\n",
        "  "
      ],
      "metadata": {
        "id": "bMI1dc0pLvUT"
      },
      "execution_count": 35,
      "outputs": []
    },
    {
      "cell_type": "code",
      "source": [
        "indicecorrecto(m0, 2)"
      ],
      "metadata": {
        "colab": {
          "base_uri": "https://localhost:8080/"
        },
        "id": "p1aNDCLEVlDv",
        "outputId": "eb23baa8-8275-49b6-b9d8-fa9fa9e79d91"
      },
      "execution_count": 44,
      "outputs": [
        {
          "output_type": "stream",
          "name": "stdout",
          "text": [
            "1\n"
          ]
        },
        {
          "output_type": "execute_result",
          "data": {
            "text/plain": [
              "True"
            ]
          },
          "metadata": {},
          "execution_count": 44
        }
      ]
    },
    {
      "cell_type": "code",
      "source": [
        "class ubicacion:\n",
        "  def __init__(self, fila, columna, izquierda, derecha, filacorrecta1, columnacorrecta):\n",
        "    self.fila = fila\n",
        "    self.columna = columna\n",
        "    self.izq = izquierda\n",
        "    self.der = derecha\n",
        "    self.filcorr = filacorrecta1\n",
        "    self.columcorr = columnacorrecta\n",
        "\n",
        "def ubicacionfun (m, num):\n",
        "  num1 = ubicacion(0, 0, 0, 0, False, False)\n",
        "  v, z = buscar(m, num)\n",
        "  num1.fila = v \n",
        "  num1.columna = z\n",
        "  comprobar_fila = filacorrecta(m, num)\n",
        "  num1.filcorr = comprobar_fila\n",
        "  comprobar_columna = indicecorrecto(m, num)\n",
        "  num1.columcorr = comprobar_columna\n",
        "  lista = []\n",
        "  lista.append(num1.fila)\n",
        "  lista.append(num1.columna)\n",
        "  lista.append(num1.izq)\n",
        "  lista.append(num1.der)\n",
        "  lista.append(num1.filcorr)\n",
        "  lista.append(num1.columcorr)\n",
        "\n",
        "  return lista\n"
      ],
      "metadata": {
        "id": "9mS1dJ9264ox"
      },
      "execution_count": 54,
      "outputs": []
    },
    {
      "cell_type": "code",
      "source": [
        "ubicacionfun(m0, 10)"
      ],
      "metadata": {
        "colab": {
          "base_uri": "https://localhost:8080/"
        },
        "id": "VQ6gd98VKJzP",
        "outputId": "4319a5cc-ee43-4199-ab63-528ff36e25fe"
      },
      "execution_count": 56,
      "outputs": [
        {
          "output_type": "stream",
          "name": "stdout",
          "text": [
            "1\n"
          ]
        },
        {
          "output_type": "execute_result",
          "data": {
            "text/plain": [
              "[2, 2, 0, 0, True, False]"
            ]
          },
          "metadata": {},
          "execution_count": 56
        }
      ]
    }
  ]
}